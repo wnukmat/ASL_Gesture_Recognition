{
 "cells": [
  {
   "cell_type": "markdown",
   "metadata": {},
   "source": [
    "# American Sign Language Gesture Recognition Using CNN's with Images \n",
    "  \n",
    "Author:       Mansur Amin <br>\n",
    "Team:         ASL Dynamics <br>\n",
    "Team Members: Matt Wnuk, Juan Castillo <br>\n",
    "Class:        ECE 285 Spring 2018 : Machine Learning for Computer Vision <br>\n",
    "\n",
    "- Build a convolutional neural network with TensorFlow for for gesture recogination using the MNIST ASL Dataset avaiable on Kaggel.\n",
    "\n",
    "- This project uses TensorFlow layers API for a raw TensorFlow implementation with variables. <br>\n",
    "Reference: Aymeric Damien's project to recognize digits in images from the MNIST digits dataset <br>\n",
    "Reference source: https://github.com/aymericdamien/TensorFlow-Examples/ <br>"
   ]
  },
  {
   "cell_type": "markdown",
   "metadata": {},
   "source": [
    "## CNN Overview\n",
    "\n",
    "Convolutional Neural network \n",
    "\n",
    "![CNN](https://cdn-images-1.medium.com/max/1400/1*XbuW8WuRrAY5pC4t-9DZAQ.jpeg)\n",
    "\n",
    "## MNIST Dataset Overview\n",
    "\n",
    "This example is using MNIST ASL Hand Gestures. The dataset contains 27,456 examples for training and 7,173 examples for testing. The images have been size-normalized and centered in a fixed-size image (28x28 pixels) with values from 0 to 1. For simplicity, each image has been flattened and converted to a 1-D numpy array of 784 features (28*28).\n",
    "\n",
    "![MNIST](https://www.kaggle.com/databundle/preview/image-dataset/3258/5337/5337/15172)\n",
    "\n",
    "More info: https://www.kaggle.com/datamunge/sign-language-mnist/data"
   ]
  },
  {
   "cell_type": "code",
   "execution_count": 53,
   "metadata": {},
   "outputs": [],
   "source": [
    "####################################################################\n",
    "# Libraries \n",
    "from __future__ import division, print_function, absolute_import\n",
    "\n",
    "import tensorflow as tf\n",
    "import matplotlib.pyplot as plt\n",
    "import numpy as np\n",
    "\n",
    "#####################################################################\n",
    "# def read_data(path) :\n",
    "# Reads data specidfed by path and stores into numpy array, Splits data nad lbl\n",
    "# path = location of where data is stored\n",
    "#####################################################################\n",
    "def read_data(path) :\n",
    "    num_lines = sum(1 for line in open(path)) # get number of lines in file\n",
    "    myfile = open(path,'r')\n",
    "    j = 0\n",
    "    read_lines = np.zeros((num_lines,785))    # expects a 25x25 pixel row vector\n",
    "    for line in myfile :\n",
    "        if(j >= 1) :\n",
    "            read_lines[j,:] = np.asarray(line.split(','))\n",
    "        j = j+1\n",
    "    myfile.close()\n",
    "    \n",
    "    print('Initlal', path[63:68], ' Data Shape:', read_lines.shape)\n",
    "    read_lines = np.delete(read_lines,0,0) # remove pixel labels row from frost row\n",
    "    labels = read_lines[:,0]\n",
    "    read_lines = np.delete(read_lines,0,1) # remove labels from first collumn\n",
    "    print('Augmented', path[63:68], 'Data Shape:', read_lines.shape, '\\n')\n",
    "    return read_lines,labels.astype(np.int16) # .reshape(len(labels),1)\n",
    "\n",
    "#####################################################################\n",
    "# def vis_data(dat_vec,dat_lbl) :\n",
    "# Visualize data.\n",
    "# dat_vec = vector representing data\n",
    "# dat_lbl = label representing data\n",
    "#####################################################################\n",
    "def vis_data(dat_vec,dat_lbl) :\n",
    "    lbl_map = ['A','B','C','D','E','F','G','H','I','J','K','L','M','N','O','P','Q','R','S','T','U','V','W','X','Y','Z']\n",
    "    dat_mat = dat_vec.reshape(28,28)\n",
    "    plt.title('Image Label = ' + str(dat_lbl) + ' = ' + lbl_map[dat_lbl])\n",
    "    plt.imshow(dat_mat, cmap='gray')\n",
    "    \n",
    "#####################################################################\n",
    "# def normalize_MNIST_images(x) :\n",
    "# Normalize data in range of -1 to 1\n",
    "# x = vector representing data\n",
    "#####################################################################\n",
    "def normalize_MNIST_images(x,max_x, diff) : \n",
    "    x = x.astype(np.float64)\n",
    "    x = max_x*(x-np.min(x))/(np.max(x)-np.min(x))-diff\n",
    "    print(\"Normalize_MNIST_images\")\n",
    "    return x"
   ]
  },
  {
   "cell_type": "code",
   "execution_count": 54,
   "metadata": {},
   "outputs": [
    {
     "name": "stdout",
     "output_type": "stream",
     "text": [
      "-------- Loading Train Data\n",
      "Initlal train  Data Shape: (27456, 785)\n",
      "Augmented train Data Shape: (27455, 784) \n",
      "\n",
      "-------- Loading Test Data\n",
      "Initlal test.  Data Shape: (7173, 785)\n",
      "Augmented test. Data Shape: (7172, 784) \n",
      "\n",
      "-------- Normalize Data\n",
      "Normalize_MNIST_images\n",
      "Normalize_MNIST_images\n",
      "\n",
      "\n"
     ]
    }
   ],
   "source": [
    "## Read ASL MNIST data\n",
    "####################################################################\n",
    "# # Windows Path\n",
    "# train_path = 'C:\\\\Users\\\\maamin\\\\Desktop\\\\ECE_285_ML_DL\\\\data\\\\sign_mnist_train.csv'\n",
    "# test_path = 'C:\\\\Users\\\\maamin\\\\Desktop\\\\ECE_285_ML_DL\\\\data\\\\sign_mnist_test.csv'\n",
    "####################################################################\n",
    "# # Mac path\n",
    "# train_path = '/Users/mansuramin/Desktop/ECE_285_ML/data/sign_mnist_train.csv'\n",
    "# test_path = '/Users/mansuramin/Desktop/ECE_285_ML/data/sign_mnist_test.csv'\n",
    "####################################################################\n",
    "# ieng6 Server Path\n",
    "train_path = '/datasets/ee285s-public/KaggleASL/Kaggle_ASL_Images/sign_mnist_train.csv'\n",
    "test_path = '/datasets/ee285s-public/KaggleASL/Kaggle_ASL_Images/sign_mnist_test.csv'\n",
    "####################################################################\n",
    "# Load data from path\n",
    "print(\"-------- Loading Train Data\")\n",
    "xtrain,ltrain = read_data(train_path)\n",
    "print(\"-------- Loading Test Data\")\n",
    "xtest,ltest = read_data(test_path)\n",
    "####################################################################\n",
    "# Normalize between 0 and 1\n",
    "print(\"-------- Normalize Data\")\n",
    "xtrain = normalize_MNIST_images(xtrain,1,0)\n",
    "xtest = normalize_MNIST_images(xtest,1,0)\n",
    "print(\"\\n\")\n",
    "\n",
    "####################################################################\n",
    "# Change Types to match nn types\n",
    "xtrain = xtrain.astype(np.float32)\n",
    "ltrain = ltrain.astype(np.uint8)\n",
    "xtest = xtest.astype(np.float32)\n",
    "ltest = ltest.astype(np.uint8)"
   ]
  },
  {
   "cell_type": "code",
   "execution_count": 55,
   "metadata": {},
   "outputs": [],
   "source": [
    "# Training Parameters\n",
    "learning_rate = 0.001\n",
    "num_steps = 2000\n",
    "batch_size = 128\n",
    "\n",
    "# Network Parameters\n",
    "num_input = 784 # MNIST data input (img shape: 28*28)\n",
    "num_classes = 25 # MNIST total classes (0-24 digits)\n",
    "dropout = 0.25 # Dropout, probability to drop a unit"
   ]
  },
  {
   "cell_type": "code",
   "execution_count": 56,
   "metadata": {},
   "outputs": [],
   "source": [
    "# Create the neural network\n",
    "def conv_net(x_dict, n_classes, dropout, reuse, is_training):\n",
    "    \n",
    "    # Define a scope for reusing the variables\n",
    "    with tf.variable_scope('ConvNet', reuse=reuse):\n",
    "        # TF Estimator input is a dict, in case of multiple inputs\n",
    "        x = x_dict['images']\n",
    "\n",
    "        # MNIST data input is a 1-D vector of 784 features (28*28 pixels)\n",
    "        # Reshape to match picture format [Height x Width x Channel]\n",
    "        # Tensor input become 4-D: [Batch Size, Height, Width, Channel]\n",
    "        x = tf.reshape(x, shape=[-1, 28, 28, 1])\n",
    "\n",
    "        # Convolution Layer with 32 filters and a kernel size of 5\n",
    "        conv1 = tf.layers.conv2d(x, 128, 5, activation=tf.nn.relu)\n",
    "        # Max Pooling (down-sampling) with strides of 2 and kernel size of 3\n",
    "        conv1 = tf.layers.max_pooling2d(conv1, 3, 2)\n",
    "\n",
    "        # Convolution Layer with 64 filters and a kernel size of 3\n",
    "        conv2 = tf.layers.conv2d(conv1, 64, 3, activation=tf.nn.relu)\n",
    "        # Max Pooling (down-sampling) with strides of 2 and kernel size of 3\n",
    "        conv2 = tf.layers.max_pooling2d(conv2, 3, 2)\n",
    "\n",
    "        # Flatten the data to a 1-D vector for the fully connected layer\n",
    "        fc1 = tf.contrib.layers.flatten(conv2)\n",
    "        # Fully connected layer (in tf contrib folder for now)\n",
    "        fc1 = tf.layers.dense(fc1, 1024)\n",
    "        # Apply Dropout (if is_training is False, dropout is not applied)\n",
    "        fc1 = tf.layers.dropout(fc1, rate=dropout, training=is_training)\n",
    "\n",
    "        # Flatten the data to a 1-D vector for the fully connected layer\n",
    "        fc2 = tf.contrib.layers.flatten(fc1)\n",
    "        # Fully connected layer (in tf contrib folder for now)\n",
    "        fc2 = tf.layers.dense(fc2, 512)\n",
    "        # Apply Dropout (if is_training is False, dropout is not applied)\n",
    "        fc2 = tf.layers.dropout(fc2, rate=dropout, training=is_training)\n",
    "        \n",
    "        # Flatten the data to a 1-D vector for the fully connected layer\n",
    "        fc3 = tf.contrib.layers.flatten(fc2)\n",
    "        # Fully connected layer (in tf contrib folder for now)\n",
    "        fc3 = tf.layers.dense(fc3, 256)\n",
    "        # Apply Dropout (if is_training is False, dropout is not applied)\n",
    "        fc3 = tf.layers.dropout(fc3, rate=dropout, training=is_training)\n",
    "        \n",
    "        \n",
    "        # Output layer, class prediction\n",
    "        out = tf.layers.dense(fc3, n_classes)\n",
    "\n",
    "    return out"
   ]
  },
  {
   "cell_type": "code",
   "execution_count": 57,
   "metadata": {},
   "outputs": [],
   "source": [
    "# Define the model function (following TF Estimator Template)\n",
    "def model_fn(features, labels, mode):\n",
    "    \n",
    "    # Build the neural network\n",
    "    # Because Dropout have different behavior at training and prediction time, we\n",
    "    # need to create 2 distinct computation graphs that still share the same weights.\n",
    "    logits_train = conv_net(features, num_classes, dropout, reuse=False, is_training=True)\n",
    "    logits_test = conv_net(features, num_classes, dropout, reuse=True, is_training=False)\n",
    "    \n",
    "    # Predictions\n",
    "    pred_classes = tf.argmax(logits_test, axis=1)\n",
    "    pred_probas = tf.nn.softmax(logits_test)\n",
    "    \n",
    "    # If prediction mode, early return\n",
    "    if mode == tf.estimator.ModeKeys.PREDICT:\n",
    "        return tf.estimator.EstimatorSpec(mode, predictions=pred_classes) \n",
    "        \n",
    "    # Define loss and optimizer\n",
    "    loss_op = tf.reduce_mean(tf.nn.sparse_softmax_cross_entropy_with_logits(\n",
    "        logits=logits_train, labels=tf.cast(labels, dtype=tf.int32)))\n",
    "    optimizer = tf.train.AdamOptimizer(learning_rate=learning_rate)\n",
    "    train_op = optimizer.minimize(loss_op, global_step=tf.train.get_global_step())\n",
    "\n",
    "    # Evaluate the accuracy of the model\n",
    "    acc_op = tf.metrics.accuracy(labels=labels, predictions=pred_classes)\n",
    "    \n",
    "    # Log loss function values\n",
    "#     logging_hook = tf.train.LoggingTensorHook({\"loss\" : loss_op}, every_n_iter=10)\n",
    "    \n",
    "    # TF Estimators requires to return a EstimatorSpec, that specify\n",
    "    # the different ops for training, evaluating, ...\n",
    "    estim_specs = tf.estimator.EstimatorSpec(\n",
    "      mode=mode,\n",
    "      predictions=pred_classes,\n",
    "      loss=loss_op,\n",
    "      train_op=train_op,\n",
    "      eval_metric_ops={'accuracy': acc_op})\n",
    "#       training_hooks=[logging_hook]),\n",
    "\n",
    "    return estim_specs"
   ]
  },
  {
   "cell_type": "code",
   "execution_count": 58,
   "metadata": {},
   "outputs": [
    {
     "name": "stdout",
     "output_type": "stream",
     "text": [
      "-------- Start Generate Model\n",
      "INFO:tensorflow:Using default config.\n",
      "WARNING:tensorflow:Using temporary folder as model directory: /tmp/tmpuwmxwog1\n",
      "INFO:tensorflow:Using config: {'_model_dir': '/tmp/tmpuwmxwog1', '_tf_random_seed': None, '_save_summary_steps': 100, '_save_checkpoints_steps': None, '_save_checkpoints_secs': 600, '_session_config': None, '_keep_checkpoint_max': 5, '_keep_checkpoint_every_n_hours': 10000, '_log_step_count_steps': 100, '_service': None, '_cluster_spec': <tensorflow.python.training.server_lib.ClusterSpec object at 0x7fafcfbf1ba8>, '_task_type': 'worker', '_task_id': 0, '_master': '', '_is_chief': True, '_num_ps_replicas': 0, '_num_worker_replicas': 1}\n",
      "-------- End Generate Model \n",
      "\n"
     ]
    }
   ],
   "source": [
    "# Build the Estimator\n",
    "print(\"-------- Start Generate Model\")\n",
    "model = tf.estimator.Estimator(model_fn)\n",
    "print(\"-------- End Generate Model \\n\")\n"
   ]
  },
  {
   "cell_type": "code",
   "execution_count": 59,
   "metadata": {},
   "outputs": [
    {
     "name": "stdout",
     "output_type": "stream",
     "text": [
      "-------- Start Training\n",
      "INFO:tensorflow:Create CheckpointSaverHook.\n",
      "INFO:tensorflow:Saving checkpoints for 1 into /tmp/tmpuwmxwog1/model.ckpt.\n",
      "INFO:tensorflow:loss = 3.2289965, step = 1\n",
      "INFO:tensorflow:global_step/sec: 124.298\n",
      "INFO:tensorflow:loss = 0.5495012, step = 101 (0.805 sec)\n",
      "INFO:tensorflow:global_step/sec: 148.251\n",
      "INFO:tensorflow:loss = 0.20107375, step = 201 (0.675 sec)\n",
      "INFO:tensorflow:global_step/sec: 150.399\n",
      "INFO:tensorflow:loss = 0.1497559, step = 301 (0.665 sec)\n",
      "INFO:tensorflow:global_step/sec: 152.811\n",
      "INFO:tensorflow:loss = 0.05237753, step = 401 (0.654 sec)\n",
      "INFO:tensorflow:global_step/sec: 153.366\n",
      "INFO:tensorflow:loss = 0.02033262, step = 501 (0.652 sec)\n",
      "INFO:tensorflow:global_step/sec: 150.839\n",
      "INFO:tensorflow:loss = 0.034755986, step = 601 (0.663 sec)\n",
      "INFO:tensorflow:global_step/sec: 151.713\n",
      "INFO:tensorflow:loss = 0.11066723, step = 701 (0.659 sec)\n",
      "INFO:tensorflow:global_step/sec: 148.487\n",
      "INFO:tensorflow:loss = 0.009367019, step = 801 (0.673 sec)\n",
      "INFO:tensorflow:global_step/sec: 150.833\n",
      "INFO:tensorflow:loss = 0.041269258, step = 901 (0.663 sec)\n",
      "INFO:tensorflow:global_step/sec: 147.875\n",
      "INFO:tensorflow:loss = 0.018215861, step = 1001 (0.676 sec)\n",
      "INFO:tensorflow:global_step/sec: 148.991\n",
      "INFO:tensorflow:loss = 0.08737037, step = 1101 (0.671 sec)\n",
      "INFO:tensorflow:global_step/sec: 147.232\n",
      "INFO:tensorflow:loss = 0.014519407, step = 1201 (0.679 sec)\n",
      "INFO:tensorflow:global_step/sec: 148.217\n",
      "INFO:tensorflow:loss = 0.060661077, step = 1301 (0.677 sec)\n",
      "INFO:tensorflow:global_step/sec: 149.277\n",
      "INFO:tensorflow:loss = 0.005473721, step = 1401 (0.668 sec)\n",
      "INFO:tensorflow:global_step/sec: 146.845\n",
      "INFO:tensorflow:loss = 0.023241205, step = 1501 (0.683 sec)\n",
      "INFO:tensorflow:global_step/sec: 152.319\n",
      "INFO:tensorflow:loss = 0.10619955, step = 1601 (0.654 sec)\n",
      "INFO:tensorflow:global_step/sec: 151.2\n",
      "INFO:tensorflow:loss = 0.0022599932, step = 1701 (0.661 sec)\n",
      "INFO:tensorflow:global_step/sec: 151.711\n",
      "INFO:tensorflow:loss = 0.015554437, step = 1801 (0.659 sec)\n",
      "INFO:tensorflow:global_step/sec: 147.537\n",
      "INFO:tensorflow:loss = 0.004622701, step = 1901 (0.680 sec)\n",
      "INFO:tensorflow:Saving checkpoints for 2000 into /tmp/tmpuwmxwog1/model.ckpt.\n",
      "INFO:tensorflow:Loss for final step: 0.005880602.\n",
      "-------- End Training \n",
      "\n"
     ]
    }
   ],
   "source": [
    "# Define the input function for training\n",
    "print(\"-------- Start Training\")\n",
    "input_fn = tf.estimator.inputs.numpy_input_fn(\n",
    "    x={'images': xtrain}, y=ltrain,\n",
    "    batch_size=batch_size, num_epochs=None, shuffle=True)\n",
    "# Train the Model\n",
    "# tf.logging.set_verbosity(tf.logging.INFO)\n",
    "model.train(input_fn, steps=num_steps)\n",
    "print(\"-------- End Training \\n\")\n"
   ]
  },
  {
   "cell_type": "code",
   "execution_count": 60,
   "metadata": {},
   "outputs": [
    {
     "name": "stdout",
     "output_type": "stream",
     "text": [
      "-------- Start Testing\n",
      "INFO:tensorflow:Starting evaluation at 2018-06-14-00:39:26\n",
      "INFO:tensorflow:Restoring parameters from /tmp/tmpuwmxwog1/model.ckpt-2000\n",
      "INFO:tensorflow:Finished evaluation at 2018-06-14-00:39:26\n",
      "INFO:tensorflow:Saving dict for global step 2000: accuracy = 0.9548243, global_step = 2000, loss = 0.33265987\n",
      "-------- End Testing\n",
      "\n",
      "Testing Results:  {'accuracy': 0.9548243, 'loss': 0.33265987, 'global_step': 2000}\n",
      "\n",
      "\n"
     ]
    }
   ],
   "source": [
    "# Evaluate the Model\n",
    "print(\"-------- Start Testing\")\n",
    "# Define the input function for evaluating\n",
    "input_fn = tf.estimator.inputs.numpy_input_fn(\n",
    "    x={'images': xtest}, y=ltest,\n",
    "    batch_size=batch_size, shuffle=False)\n",
    "# Use the Estimator 'evaluate' method\n",
    "OUT = model.evaluate(input_fn)\n",
    "print(\"-------- End Testing\\n\")\n",
    "print(\"Testing Results: \", OUT)\n",
    "print(\"\\n\")"
   ]
  },
  {
   "cell_type": "code",
   "execution_count": 61,
   "metadata": {},
   "outputs": [
    {
     "name": "stdout",
     "output_type": "stream",
     "text": [
      "-------- Start Testing n images at a time\n",
      "INFO:tensorflow:Restoring parameters from /tmp/tmpuwmxwog1/model.ckpt-2000\n"
     ]
    }
   ],
   "source": [
    "# Test n_images at a time\n",
    "print(\"-------- Start Testing n images at a time\")\n",
    "n_images = 7172\n",
    "# Get images from test set\n",
    "test_images = xtest[:n_images]\n",
    "# Prepare the input data\n",
    "input_fn = tf.estimator.inputs.numpy_input_fn(\n",
    "    x={'images': test_images}, shuffle=False)\n",
    "# Use the model to predict the images class\n",
    "preds = list(model.predict(input_fn))\n",
    "lbl_map = ['A','B','C','D','E','F','G','H','I','J','K','L','M','N','O','P','Q','R','S','T','U','V','W','X','Y','Z']\n"
   ]
  },
  {
   "cell_type": "code",
   "execution_count": 62,
   "metadata": {},
   "outputs": [
    {
     "name": "stdout",
     "output_type": "stream",
     "text": [
      "Number of accurate predictions:  6848\n",
      "Total Number of images:  7172\n",
      "Percentage:  95.4824316787507 \n",
      "\n"
     ]
    }
   ],
   "source": [
    "# Count the number of correct predictions\n",
    "counter = 0\n",
    "for i in range (n_images) :\n",
    "    if(preds[i] == ltest[i]):\n",
    "        counter = counter + 1\n",
    "print(\"Number of accurate predictions: \",counter)  \n",
    "print(\"Total Number of images: \",n_images) \n",
    "print(\"Percentage: \", counter/n_images *100, \"\\n\")"
   ]
  },
  {
   "cell_type": "code",
   "execution_count": 63,
   "metadata": {},
   "outputs": [
    {
     "name": "stdout",
     "output_type": "stream",
     "text": [
      "Show first 6 images in test set with results\n"
     ]
    },
    {
     "data": {
      "image/png": "[encoded data removed]",
      "text/plain": [
       "<Figure size 432x288 with 1 Axes>"
      ]
     },
     "metadata": {},
     "output_type": "display_data"
    },
    {
     "data": {
      "image/png": "[encoded data removed]",
      "text/plain": [
       "<Figure size 432x288 with 1 Axes>"
      ]
     },
     "metadata": {},
     "output_type": "display_data"
    },
    {
     "data": {
      "image/png": "[encoded data removed]",
      "text/plain": [
       "<Figure size 432x288 with 1 Axes>"
      ]
     },
     "metadata": {},
     "output_type": "display_data"
    },
    {
     "data": {
      "image/png": "[encoded data removed]",
      "text/plain": [
       "<Figure size 432x288 with 1 Axes>"
      ]
     },
     "metadata": {},
     "output_type": "display_data"
    },
    {
     "data": {
      "image/png": "[encoded data removed]",
      "text/plain": [
       "<Figure size 432x288 with 1 Axes>"
      ]
     },
     "metadata": {},
     "output_type": "display_data"
    },
    {
     "data": {
      "image/png": "[encoded data removed]",
      "text/plain": [
       "<Figure size 432x288 with 1 Axes>"
      ]
     },
     "metadata": {},
     "output_type": "display_data"
    }
   ],
   "source": [
    "# Display first n images in test set \n",
    "print(\"Show first 6 images in test set with results\")\n",
    "for i in range(0,6):\n",
    "    plt.imshow(np.reshape(test_images[i], [28, 28]), cmap='gray')\n",
    "    plt.title(\"Prediction:%i, Actual:%i, Word:%s\" % (preds[i],ltest[i],lbl_map[preds[i]]))\n",
    "#     plt.savefig(\"testResults_\" + lbl_map[preds[i]] + '_.png')\n",
    "    plt.show()"
   ]
  },
  {
   "cell_type": "code",
   "execution_count": null,
   "metadata": {},
   "outputs": [],
   "source": []
  },
  {
   "cell_type": "code",
   "execution_count": null,
   "metadata": {},
   "outputs": [],
   "source": []
  }
 ],
 "metadata": {
  "anaconda-cloud": {},
  "kernelspec": {
   "display_name": "Python 3",
   "language": "python",
   "name": "python3"
  },
  "language_info": {
   "codemirror_mode": {
    "name": "ipython",
    "version": 3
   },
   "file_extension": ".py",
   "mimetype": "text/x-python",
   "name": "python",
   "nbconvert_exporter": "python",
   "pygments_lexer": "ipython3",
   "version": "3.6.4"
  }
 },
 "nbformat": 4,
 "nbformat_minor": 2
}
