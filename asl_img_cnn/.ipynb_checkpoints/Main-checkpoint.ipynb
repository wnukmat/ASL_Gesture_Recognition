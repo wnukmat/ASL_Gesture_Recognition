{
 "cells": [
  {
   "cell_type": "code",
   "execution_count": 2,
   "metadata": {},
   "outputs": [
    {
     "name": "stderr",
     "output_type": "stream",
     "text": [
      "/opt/conda/lib/python2.7/site-packages/h5py/__init__.py:36: FutureWarning: Conversion of the second argument of issubdtype from `float` to `np.floating` is deprecated. In future, it will be treated as `np.float64 == np.dtype(float).type`.\n",
      "  from ._conv import register_converters as _register_converters\n"
     ]
    },
    {
     "name": "stdout",
     "output_type": "stream",
     "text": [
      "-------- Loading Train Data\n",
      "Initlal train  Data Shape: (27456, 785)\n",
      "Augmented train Data Shape: (27455, 784) \n",
      "\n",
      "-------- Loading Test Data\n",
      "Initlal test.  Data Shape: (7173, 785)\n",
      "Augmented test. Data Shape: (7172, 784) \n",
      "\n",
      "-------- Normalize Data\n",
      "Normalize_MNIST_images\n",
      "Normalize_MNIST_images\n",
      "\n",
      "\n",
      "-------- Start Generate Model\n",
      "INFO:tensorflow:Using default config.\n",
      "WARNING:tensorflow:Using temporary folder as model directory: /tmp/tmpdVdNKL\n",
      "INFO:tensorflow:Using config: {'_save_checkpoints_secs': 600, '_session_config': None, '_keep_checkpoint_max': 5, '_task_type': 'worker', '_is_chief': True, '_cluster_spec': <tensorflow.python.training.server_lib.ClusterSpec object at 0x7fa7a284d550>, '_save_checkpoints_steps': None, '_keep_checkpoint_every_n_hours': 10000, '_service': None, '_num_ps_replicas': 0, '_tf_random_seed': None, '_master': '', '_num_worker_replicas': 1, '_task_id': 0, '_log_step_count_steps': 100, '_model_dir': '/tmp/tmpdVdNKL', '_save_summary_steps': 100}\n",
      "-------- End Generate Model \n",
      "\n",
      "-------- Start Training\n",
      "INFO:tensorflow:Create CheckpointSaverHook.\n",
      "INFO:tensorflow:Saving checkpoints for 1 into /tmp/tmpdVdNKL/model.ckpt.\n",
      "INFO:tensorflow:loss = 3.2473524, step = 1\n",
      "INFO:tensorflow:global_step/sec: 193.988\n",
      "INFO:tensorflow:loss = 0.6664586, step = 101 (0.518 sec)\n",
      "INFO:tensorflow:global_step/sec: 230.992\n",
      "INFO:tensorflow:loss = 0.18687873, step = 201 (0.433 sec)\n",
      "INFO:tensorflow:global_step/sec: 232.504\n",
      "INFO:tensorflow:loss = 0.035511248, step = 301 (0.430 sec)\n",
      "INFO:tensorflow:global_step/sec: 225.422\n",
      "INFO:tensorflow:loss = 0.044470645, step = 401 (0.443 sec)\n",
      "INFO:tensorflow:global_step/sec: 221.665\n",
      "INFO:tensorflow:loss = 0.06264107, step = 501 (0.451 sec)\n",
      "INFO:tensorflow:global_step/sec: 226.7\n",
      "INFO:tensorflow:loss = 0.0077278754, step = 601 (0.442 sec)\n",
      "INFO:tensorflow:global_step/sec: 227.02\n",
      "INFO:tensorflow:loss = 0.005547006, step = 701 (0.440 sec)\n",
      "INFO:tensorflow:global_step/sec: 226.501\n",
      "INFO:tensorflow:loss = 0.008577522, step = 801 (0.442 sec)\n",
      "INFO:tensorflow:global_step/sec: 230.431\n",
      "INFO:tensorflow:loss = 0.025506426, step = 901 (0.434 sec)\n",
      "INFO:tensorflow:global_step/sec: 233.556\n",
      "INFO:tensorflow:loss = 0.05394635, step = 1001 (0.428 sec)\n",
      "INFO:tensorflow:global_step/sec: 231.148\n",
      "INFO:tensorflow:loss = 0.0025825994, step = 1101 (0.432 sec)\n",
      "INFO:tensorflow:global_step/sec: 232.458\n",
      "INFO:tensorflow:loss = 0.0011984805, step = 1201 (0.429 sec)\n",
      "INFO:tensorflow:global_step/sec: 235.028\n",
      "INFO:tensorflow:loss = 0.0005987757, step = 1301 (0.426 sec)\n",
      "INFO:tensorflow:global_step/sec: 229.582\n",
      "INFO:tensorflow:loss = 0.00016657854, step = 1401 (0.436 sec)\n",
      "INFO:tensorflow:global_step/sec: 226.867\n",
      "INFO:tensorflow:loss = 1.574615e-05, step = 1501 (0.440 sec)\n",
      "INFO:tensorflow:global_step/sec: 221.746\n",
      "INFO:tensorflow:loss = 0.0020019917, step = 1601 (0.451 sec)\n",
      "INFO:tensorflow:global_step/sec: 220.667\n",
      "INFO:tensorflow:loss = 0.0007309241, step = 1701 (0.454 sec)\n",
      "INFO:tensorflow:global_step/sec: 225.023\n",
      "INFO:tensorflow:loss = 0.17531066, step = 1801 (0.445 sec)\n",
      "INFO:tensorflow:global_step/sec: 226.014\n",
      "INFO:tensorflow:loss = 0.031463318, step = 1901 (0.441 sec)\n",
      "INFO:tensorflow:Saving checkpoints for 2000 into /tmp/tmpdVdNKL/model.ckpt.\n",
      "INFO:tensorflow:Loss for final step: 0.0010018523.\n",
      "-------- End Training \n",
      "\n",
      "-------- Start Testing\n",
      "INFO:tensorflow:Starting evaluation at 2018-06-04-20:02:59\n",
      "INFO:tensorflow:Restoring parameters from /tmp/tmpdVdNKL/model.ckpt-2000\n",
      "INFO:tensorflow:Finished evaluation at 2018-06-04-20:03:00\n",
      "INFO:tensorflow:Saving dict for global step 2000: accuracy = 0.95273286, global_step = 2000, loss = 0.22234404\n",
      "-------- End Testing\n",
      "\n",
      "Testing Results:  {'loss': 0.22234404, 'global_step': 2000, 'accuracy': 0.95273286}\n",
      "\n",
      "\n",
      "-------- Start Testing n images at a time\n",
      "INFO:tensorflow:Restoring parameters from /tmp/tmpdVdNKL/model.ckpt-2000\n",
      "Number of accurate predictions:  6833\n",
      "Total Number of images:  7172\n",
      "Percentage:  95.2732849972 \n",
      "\n",
      "Show first 6 images in test set with results\n"
     ]
    },
    {
     "data": {
      "text/plain": [
       "<Figure size 640x480 with 1 Axes>"
      ]
     },
     "metadata": {},
     "output_type": "display_data"
    },
    {
     "data": {
      "text/plain": [
       "<Figure size 640x480 with 1 Axes>"
      ]
     },
     "metadata": {},
     "output_type": "display_data"
    },
    {
     "data": {
      "text/plain": [
       "<Figure size 640x480 with 1 Axes>"
      ]
     },
     "metadata": {},
     "output_type": "display_data"
    },
    {
     "data": {
      "text/plain": [
       "<Figure size 640x480 with 1 Axes>"
      ]
     },
     "metadata": {},
     "output_type": "display_data"
    },
    {
     "data": {
      "text/plain": [
       "<Figure size 640x480 with 1 Axes>"
      ]
     },
     "metadata": {},
     "output_type": "display_data"
    },
    {
     "data": {
      "text/plain": [
       "<Figure size 640x480 with 1 Axes>"
      ]
     },
     "metadata": {},
     "output_type": "display_data"
    }
   ],
   "source": [
    "# Run cnn_asl_mnist_.py\n",
    "%run -i 'cnn_asl_mnist.py'\n"
   ]
  },
  {
   "cell_type": "code",
   "execution_count": 1,
   "metadata": {},
   "outputs": [
    {
     "data": {
      "text/plain": [
       "1"
      ]
     },
     "execution_count": 1,
     "metadata": {},
     "output_type": "execute_result"
    }
   ],
   "source": [
    "1"
   ]
  },
  {
   "cell_type": "code",
   "execution_count": null,
   "metadata": {},
   "outputs": [],
   "source": []
  }
 ],
 "metadata": {
  "kernelspec": {
   "display_name": "Python 2",
   "language": "python",
   "name": "python2"
  },
  "language_info": {
   "codemirror_mode": {
    "name": "ipython",
    "version": 2
   },
   "file_extension": ".py",
   "mimetype": "text/x-python",
   "name": "python",
   "nbconvert_exporter": "python",
   "pygments_lexer": "ipython2",
   "version": "2.7.14"
  }
 },
 "nbformat": 4,
 "nbformat_minor": 2
}
