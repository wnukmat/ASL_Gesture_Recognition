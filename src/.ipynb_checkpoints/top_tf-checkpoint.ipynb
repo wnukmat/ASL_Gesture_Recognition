{
 "cells": [
  {
   "cell_type": "code",
   "execution_count": null,
   "metadata": {},
   "outputs": [],
   "source": [
    "################################################################################\n",
    "# Title: top level file for ASL net using tensorflow\n",
    "#\n",
    "# Author: Mansur Amin\n",
    "#\n",
    "# Description: Top leve file for ASL NN.\n",
    "#\n",
    "# Current Status: Calls all functions and imports all files needed to run\n",
    "# training net.\n",
    "################################################################################\n",
    "\n",
    "# libraries\n",
    "from __future__ import print_function\n",
    "import numpy as np\n",
    "import matplotlib.pyplot as plt\n",
    "import ASL_Class as asl\n",
    "import torch\n",
    "import torch.autograd as ag"
   ]
  }
 ],
 "metadata": {
  "kernelspec": {
   "display_name": "Python 2",
   "language": "python",
   "name": "python2"
  },
  "language_info": {
   "codemirror_mode": {
    "name": "ipython",
    "version": 2
   },
   "file_extension": ".py",
   "mimetype": "text/x-python",
   "name": "python",
   "nbconvert_exporter": "python",
   "pygments_lexer": "ipython2",
   "version": "2.7.14"
  }
 },
 "nbformat": 4,
 "nbformat_minor": 2
}
