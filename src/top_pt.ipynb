{
 "cells": [
  {
   "cell_type": "code",
   "execution_count": 1,
   "metadata": {},
   "outputs": [],
   "source": [
    "################################################################################\n",
    "# Title: top level file for ASL net\n",
    "#\n",
    "# Author: Mansur Amin\n",
    "#\n",
    "# Description: Top leve file for ASL NN.\n",
    "#\n",
    "# Current Status: Calls all functions and imports all files needed to run\n",
    "# training net.\n",
    "################################################################################\n",
    "\n",
    "# libraries\n",
    "from __future__ import print_function\n",
    "import numpy as np\n",
    "import matplotlib.pyplot as plt\n",
    "import ASL_Class as asl\n",
    "import torch\n",
    "import torch.autograd as ag"
   ]
  },
  {
   "cell_type": "code",
   "execution_count": 3,
   "metadata": {},
   "outputs": [
    {
     "name": "stdout",
     "output_type": "stream",
     "text": [
      "('Normalize_MNIST_images', (27456, 784))\n",
      "('Normalize_MNIST_images', (7173, 784))\n"
     ]
    },
    {
     "data": {
      "image/png": "[encoded data removed]",
      "text/plain": [
       "<Figure size 432x288 with 1 Axes>"
      ]
     },
     "metadata": {},
     "output_type": "display_data"
    }
   ],
   "source": [
    "#####################################################################\n",
    "# Main Program\n",
    "#####################################################################\n",
    "\n",
    "####### Read data\n",
    "\n",
    "# Windows Path\n",
    "# train_path = 'C:\\\\Users\\\\maamin\\\\Desktop\\\\ECE_285_ML_DL\\\\data\\\\sign_mnist_train.csv'\n",
    "# test_path = 'C:\\\\Users\\\\maamin\\\\Desktop\\\\ECE_285_ML_DL\\\\data\\\\sign_mnist_test.csv'\n",
    "\n",
    "# Mac path\n",
    "# train_path = '/Users/mansuramin/Desktop/ECE_285_ML/data/sign_mnist_train.csv'\n",
    "# test_path = '/Users/mansuramin/Desktop/ECE_285_ML/data/sign_mnist_test.csv'\n",
    "\n",
    "# Linux Server Path\n",
    "train_path = '/datasets/home/56/256/maamin/asl_data/sign_mnist_train.csv'\n",
    "test_path = '/datasets/home/56/256/maamin/asl_data/sign_mnist_test.csv'\n",
    "\n",
    "# Load data\n",
    "xtrain,ltrain = asl.read_data(train_path)\n",
    "xtest,ltest = asl.read_data(test_path)\n",
    "\n",
    "# Normalize\n",
    "xtrain = asl.normalize_MNIST_images(xtrain)\n",
    "xtest = asl.normalize_MNIST_images(xtest)\n",
    "\n",
    "# Visualize data\n",
    "indx = 10240\n",
    "asl.vis_data(xtrain[indx,:],ltrain[indx])\n",
    "\n",
    "# Change Types and reshape\n",
    "xtrain = np.moveaxis(xtrain,0,1)\n",
    "ltrain = ltrain.astype(np.int64)\n",
    "xtest = np.moveaxis(xtest,0,1)\n",
    "ltest = ltest.astype(np.int64)"
   ]
  },
  {
   "cell_type": "code",
   "execution_count": 4,
   "metadata": {},
   "outputs": [
    {
     "name": "stdout",
     "output_type": "stream",
     "text": [
      "xtrain2 =  (28, 28, 1, 27456)\n",
      "xtrain =  (27456, 1, 28, 28)\n",
      "xtest2 =  (28, 28, 1, 7173)\n",
      "xtest =  (7173, 1, 28, 28)\n"
     ]
    }
   ],
   "source": [
    "# Reshape data in the form of \n",
    "# Batch size × Number of input channels × Image width × Image height\n",
    "xtrain2 = xtrain.reshape(28,28,1,xtrain.shape[1])\n",
    "xtest2 = xtest.reshape(28,28,1,xtest.shape[1])\n",
    "xtrain = np.moveaxis(xtrain2,[2,3],[1,0])\n",
    "xtest = np.moveaxis(xtest2,[2,3],[1,0])\n",
    "\n",
    "# Print new vectors eo make sure deminsions are correct\n",
    "print(\"xtrain2 = \", xtrain2.shape)\n",
    "print(\"xtrain = \", xtrain.shape)\n",
    "print(\"xtest2 = \", xtest2.shape)\n",
    "print(\"xtest = \", xtest.shape)"
   ]
  },
  {
   "cell_type": "code",
   "execution_count": 5,
   "metadata": {},
   "outputs": [],
   "source": [
    "# Convert from numpy to torch tensor\n",
    "xtrain = torch.from_numpy(xtrain)\n",
    "ltrain = torch.from_numpy(ltrain)\n",
    "xtest = torch.from_numpy(xtest)\n",
    "\n",
    "# place data on GPU's \n",
    "if torch.cuda.is_available() :\n",
    "    xtrain = xtrain.cuda()\n",
    "    ltrain = ltrain.cuda()\n",
    "    xtest  = xtest.cuda()\n",
    "\n",
    "# wrap tensor in autograd variable that lets you keep track of gradient for backprop\n",
    "xtrain = ag.Variable(xtrain,requires_grad = True)\n",
    "ltrain = ag.Variable(ltrain,requires_grad = False)\n",
    "xtest  = ag.Variable(xtest ,requires_grad = False)"
   ]
  },
  {
   "cell_type": "code",
   "execution_count": 6,
   "metadata": {},
   "outputs": [
    {
     "name": "stdout",
     "output_type": "stream",
     "text": [
      "LeNet(\n",
      "  (conv1): Conv2d(1, 6, kernel_size=(5, 5), stride=(1, 1))\n",
      "  (conv2): Conv2d(6, 16, kernel_size=(5, 5), stride=(1, 1))\n",
      "  (fc1): Linear(in_features=256, out_features=120, bias=True)\n",
      "  (fc2): Linear(in_features=120, out_features=84, bias=True)\n",
      "  (fc3): Linear(in_features=84, out_features=10, bias=True)\n",
      ")\n"
     ]
    }
   ],
   "source": [
    "## Initalizing LeNet network\n",
    "\n",
    "import torch.nn as nn \n",
    "import torch.nn.functional as F\n",
    "\n",
    "# this is our neural netowkrs class that inherits from nn.Module\n",
    "class LeNet(nn.Module) : \n",
    "    # here we defin our network structure\n",
    "    def __init__(self) :\n",
    "        super(LeNet,self).__init__()\n",
    "        if torch.cuda.is_available() :\n",
    "            self.conv1 = nn.Conv2d(1,6,5).double().cuda()  # output 24x24 \n",
    "            self.conv2 = nn.Conv2d(6,16,5).double().cuda()\n",
    "            self.fc1   = nn.Linear(256,120).double().cuda()\n",
    "            self.fc2   = nn.Linear(120,84).double().cuda()\n",
    "            self.fc3   = nn.Linear(84,10).double().cuda()\n",
    "\n",
    "    def forward(self,x):\n",
    "        x = F.max_pool2d(F.relu(self.conv1(x)), (2,2))\n",
    "        x = F.max_pool2d(F.relu(self.conv2(x)), (2,2))\n",
    "        x = x.view(-1,self.num_flat_features(x))\n",
    "        x = F.relu(self.fc1(x))\n",
    "        x = F.relu(self.fc2(x))\n",
    "        x = self.fc3(x)\n",
    "        return x\n",
    "    def num_flat_features(self, x) :\n",
    "        size = x.size()[1:]\n",
    "        return np.prod(size)\n",
    "\n",
    "net = LeNet()\n",
    "print(net)\n",
    "        "
   ]
  },
  {
   "cell_type": "code",
   "execution_count": 7,
   "metadata": {},
   "outputs": [
    {
     "name": "stdout",
     "output_type": "stream",
     "text": [
      "0 torch.Size([6, 1, 5, 5])\n",
      "1 torch.Size([6])\n",
      "2 torch.Size([16, 6, 5, 5])\n",
      "3 torch.Size([16])\n",
      "4 torch.Size([120, 256])\n",
      "5 torch.Size([120])\n",
      "6 torch.Size([84, 120])\n",
      "7 torch.Size([84])\n",
      "8 torch.Size([10, 84])\n",
      "9 torch.Size([10])\n"
     ]
    }
   ],
   "source": [
    "params = list(net.parameters())\n",
    "for i in range(len(params)) : \n",
    "    print(i, params[i].size())\n",
    "    # 0 = output of conv1\n",
    "    # 2 = output of conv2\n",
    "    # 4,6,8 = fully connected layers\n",
    "    # 1,3,5,7,9 = output of maxpool"
   ]
  },
  {
   "cell_type": "code",
   "execution_count": 8,
   "metadata": {},
   "outputs": [],
   "source": [
    "if torch.cuda.is_available() :\n",
    "    yinit = net(xtest)"
   ]
  },
  {
   "cell_type": "code",
   "execution_count": 9,
   "metadata": {},
   "outputs": [
    {
     "name": "stdout",
     "output_type": "stream",
     "text": [
      "6.064408197406943\n"
     ]
    }
   ],
   "source": [
    "# print(100 * np.mean(ltest == yinit.data.numpy().T.argmax(axis =0)))\n",
    "\n",
    "print(100 * np.mean(ltest == yinit.cpu().data.numpy().T.argmax(axis =0)))\n",
    "# probability of success for 10 digits after feed forward path ith no back propigation\n",
    "# if you have two classes probability of success is 50 % or 1/2\n",
    "# if you have ten classes probability of success is 10% or 1/10"
   ]
  },
  {
   "cell_type": "code",
   "execution_count": 10,
   "metadata": {},
   "outputs": [],
   "source": [
    "# minibatch gradient descent ith cross entropy \n",
    "N = xtrain.size()[0]            # training set size \n",
    "B = 100                         # minibatch size\n",
    "NB = N / B                      # number of minibatches\n",
    "T = 10                          # number of epochs\n",
    "gamma = .001                    # learning rate\n",
    "rho = .9                        # momentup\n",
    "criterion = nn.CrossEntropyLoss()\n",
    "optimizer = torch.optim.SGD(net.parameters(),lr=gamma,momentum=rho)"
   ]
  },
  {
   "cell_type": "code",
   "execution_count": 11,
   "metadata": {},
   "outputs": [
    {
     "ename": "RuntimeError",
     "evalue": "cuda runtime error (59) : device-side assert triggered at /opt/conda/conda-bld/pytorch_1523240155148/work/torch/lib/THCUNN/SoftMaxCommon.cuh:464",
     "output_type": "error",
     "traceback": [
      "\u001b[0;31m\u001b[0m",
      "\u001b[0;31mRuntimeError\u001b[0mTraceback (most recent call last)",
      "\u001b[0;32m<ipython-input-11-cfebbde2af44>\u001b[0m in \u001b[0;36m<module>\u001b[0;34m()\u001b[0m\n\u001b[1;32m     25\u001b[0m \u001b[0;34m\u001b[0m\u001b[0m\n\u001b[1;32m     26\u001b[0m         \u001b[0;31m# back propigation\u001b[0m\u001b[0;34m\u001b[0m\u001b[0;34m\u001b[0m\u001b[0m\n\u001b[0;32m---> 27\u001b[0;31m         \u001b[0mloss\u001b[0m\u001b[0;34m.\u001b[0m\u001b[0mbackward\u001b[0m\u001b[0;34m(\u001b[0m\u001b[0;34m)\u001b[0m\u001b[0;34m\u001b[0m\u001b[0m\n\u001b[0m\u001b[1;32m     28\u001b[0m \u001b[0;34m\u001b[0m\u001b[0m\n\u001b[1;32m     29\u001b[0m         \u001b[0;31m# paramater update\u001b[0m\u001b[0;34m\u001b[0m\u001b[0;34m\u001b[0m\u001b[0m\n",
      "\u001b[0;32m/opt/conda/lib/python2.7/site-packages/torch/autograd/variable.pyc\u001b[0m in \u001b[0;36mbackward\u001b[0;34m(self, gradient, retain_graph, create_graph, retain_variables)\u001b[0m\n\u001b[1;32m    165\u001b[0m                 \u001b[0mVariable\u001b[0m\u001b[0;34m.\u001b[0m\u001b[0;34m\u001b[0m\u001b[0m\n\u001b[1;32m    166\u001b[0m         \"\"\"\n\u001b[0;32m--> 167\u001b[0;31m         \u001b[0mtorch\u001b[0m\u001b[0;34m.\u001b[0m\u001b[0mautograd\u001b[0m\u001b[0;34m.\u001b[0m\u001b[0mbackward\u001b[0m\u001b[0;34m(\u001b[0m\u001b[0mself\u001b[0m\u001b[0;34m,\u001b[0m \u001b[0mgradient\u001b[0m\u001b[0;34m,\u001b[0m \u001b[0mretain_graph\u001b[0m\u001b[0;34m,\u001b[0m \u001b[0mcreate_graph\u001b[0m\u001b[0;34m,\u001b[0m \u001b[0mretain_variables\u001b[0m\u001b[0;34m)\u001b[0m\u001b[0;34m\u001b[0m\u001b[0m\n\u001b[0m\u001b[1;32m    168\u001b[0m \u001b[0;34m\u001b[0m\u001b[0m\n\u001b[1;32m    169\u001b[0m     \u001b[0;32mdef\u001b[0m \u001b[0mregister_hook\u001b[0m\u001b[0;34m(\u001b[0m\u001b[0mself\u001b[0m\u001b[0;34m,\u001b[0m \u001b[0mhook\u001b[0m\u001b[0;34m)\u001b[0m\u001b[0;34m:\u001b[0m\u001b[0;34m\u001b[0m\u001b[0m\n",
      "\u001b[0;32m/opt/conda/lib/python2.7/site-packages/torch/autograd/__init__.pyc\u001b[0m in \u001b[0;36mbackward\u001b[0;34m(variables, grad_variables, retain_graph, create_graph, retain_variables)\u001b[0m\n\u001b[1;32m     97\u001b[0m \u001b[0;34m\u001b[0m\u001b[0m\n\u001b[1;32m     98\u001b[0m     Variable._execution_engine.run_backward(\n\u001b[0;32m---> 99\u001b[0;31m         variables, grad_variables, retain_graph)\n\u001b[0m\u001b[1;32m    100\u001b[0m \u001b[0;34m\u001b[0m\u001b[0m\n\u001b[1;32m    101\u001b[0m \u001b[0;34m\u001b[0m\u001b[0m\n",
      "\u001b[0;31mRuntimeError\u001b[0m: cuda runtime error (59) : device-side assert triggered at /opt/conda/conda-bld/pytorch_1523240155148/work/torch/lib/THCUNN/SoftMaxCommon.cuh:464"
     ]
    }
   ],
   "source": [
    "import time\n",
    "start = time.time()\n",
    "\n",
    "for epoch in range(T) :\n",
    "    running_loss = 0.0\n",
    "    idxminibathches = np.random.permutation(NB) # shuffling \n",
    "    \n",
    "    for k in range (NB) :\n",
    "        i = idxminibathches[k] # index of minibatch\n",
    "        \n",
    "        # extract i-th minibatch from xtrain and ltrain \n",
    "        idxsmp = np.arange(i*B,np.min((i*B+B,N)))          # indicies of samples for i-th minibatch\n",
    "        \n",
    "        inputs = xtrain[idxsmp]\n",
    "        labels = ltrain[idxsmp]\n",
    "        \n",
    "        # initalize the gradients to zero\n",
    "        optimizer.zero_grad()\n",
    "        \n",
    "        # forward propigation \n",
    "        outputs = net(inputs)\n",
    "\n",
    "        # error evulation \n",
    "        loss = criterion(outputs,labels)\n",
    "\n",
    "        # back propigation \n",
    "        loss.backward()\n",
    "\n",
    "        # paramater update\n",
    "        optimizer.step()\n",
    "        \n",
    "        B = 10\n",
    "        # print averaged loss per minibatch every 100 minibatches\n",
    "        running_loss += loss[0]\n",
    "        if k %B  == B-1 :\n",
    "            print('[%d, %5d] loss: %3f' % (epoch+1, k+1, running_loss/B))\n",
    "            running_loss = 0.0\n",
    "        \n",
    "        B = 100\n",
    "print ('Finished Training')\n",
    "\n",
    "end = time.time()\n",
    "\n",
    "print(end - start)"
   ]
  },
  {
   "cell_type": "code",
   "execution_count": null,
   "metadata": {},
   "outputs": [],
   "source": []
  },
  {
   "cell_type": "code",
   "execution_count": null,
   "metadata": {},
   "outputs": [],
   "source": [
    "# testing phase\n",
    "if torch.cuda.is_available() :\n",
    "    yinit = net(xtest)"
   ]
  },
  {
   "cell_type": "code",
   "execution_count": null,
   "metadata": {},
   "outputs": [],
   "source": [
    "print(100 * np.mean(ltest == yinit.cpu().data.numpy().T.argmax(axis =0)))\n",
    "# probability of success for 10 digits after feed forward path ith no back propigation\n",
    "# if you have two classes probability of success is 50 % or 1/2\n",
    "# if you have ten classes probability of success is 10% or 1/10"
   ]
  },
  {
   "cell_type": "code",
   "execution_count": null,
   "metadata": {},
   "outputs": [],
   "source": []
  }
 ],
 "metadata": {
  "kernelspec": {
   "display_name": "Python 2",
   "language": "python",
   "name": "python2"
  },
  "language_info": {
   "codemirror_mode": {
    "name": "ipython",
    "version": 2
   },
   "file_extension": ".py",
   "mimetype": "text/x-python",
   "name": "python",
   "nbconvert_exporter": "python",
   "pygments_lexer": "ipython2",
   "version": "2.7.14"
  }
 },
 "nbformat": 4,
 "nbformat_minor": 2
}
