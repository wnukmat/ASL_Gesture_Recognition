{
 "cells": [
  {
   "cell_type": "code",
   "execution_count": 8,
   "metadata": {},
   "outputs": [
    {
     "data": {
      "image/png": "[encoded data removed]",
      "text/plain": [
       "<Figure size 432x288 with 1 Axes>"
      ]
     },
     "metadata": {},
     "output_type": "display_data"
    }
   ],
   "source": [
    "################################################################################\n",
    "# Title: top level file for ASL net\n",
    "#\n",
    "# Author: Mansur Amin\n",
    "#\n",
    "# Description: Top leve file for ASL NN.\n",
    "#\n",
    "# Current Status: Calls all functions and imports all files needed to run\n",
    "# training net.\n",
    "################################################################################\n",
    "\n",
    "# libraries\n",
    "import numpy as np\n",
    "import matplotlib.pyplot as plt\n",
    "import ASL_Class as asl\n",
    "\n",
    "#####################################################################\n",
    "# Main Program\n",
    "#####################################################################\n",
    "\n",
    "####### Read training data\n",
    "\n",
    "# Windows Path\n",
    "# path = 'C:\\\\Users\\\\maamin\\\\Desktop\\\\ECE_285_ML_DL\\\\data\\\\sign_mnist_train.csv'\n",
    "\n",
    "# Mac path\n",
    "# path = '/Users/mansuramin/Desktop/ECE_285_ML/data/sign_mnist_train.csv'\n",
    "\n",
    "# Linux Server Path\n",
    "path = '/datasets/home/56/256/maamin/data/sign_mnist_train.csv'\n",
    "\n",
    "\n",
    "trn_dat_vec,trn_lbl = asl.read_data(path)\n",
    "indx = 10240\n",
    "asl.vis_data(trn_dat_vec[indx,:],trn_lbl[indx])\n"
   ]
  },
  {
   "cell_type": "code",
   "execution_count": null,
   "metadata": {},
   "outputs": [],
   "source": []
  }
 ],
 "metadata": {
  "kernelspec": {
   "display_name": "Python 2",
   "language": "python",
   "name": "python2"
  },
  "language_info": {
   "codemirror_mode": {
    "name": "ipython",
    "version": 2
   },
   "file_extension": ".py",
   "mimetype": "text/x-python",
   "name": "python",
   "nbconvert_exporter": "python",
   "pygments_lexer": "ipython2",
   "version": "2.7.14"
  }
 },
 "nbformat": 4,
 "nbformat_minor": 2
}
